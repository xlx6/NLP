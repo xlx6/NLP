{
 "cells": [
  {
   "cell_type": "code",
   "execution_count": null,
   "id": "35be3f9a",
   "metadata": {},
   "outputs": [],
   "source": [
    "import pandas as pd\n",
    "import matplotlib.pyplot as plt\n",
    "from sklearn.manifold import TSNE\n",
    "from sklearn.preprocessing import StandardScaler\n",
    "\n",
    "import seaborn as sns"
   ]
  },
  {
   "cell_type": "code",
   "execution_count": null,
   "id": "bca842de",
   "metadata": {},
   "outputs": [],
   "source": [
    "\n",
    "\n",
    "def load_and_prepare(path, label='pretrain'):\n",
    "    df = pd.read_csv(path)\n",
    "    features = df.drop(columns=['label']).values\n",
    "    labels = df['label'].values\n",
    "    return features, labels, [label] * len(labels)\n",
    "\n",
    "x1, y1, stage1 = load_and_prepare('cls1.csv', label='before')\n",
    "x2, y2, stage2 = load_and_prepare('cls2.csv', label='after')\n",
    "\n",
    "X = pd.DataFrame(\n",
    "    data = StandardScaler().fit_transform(\n",
    "        pd.DataFrame(x1).append(pd.DataFrame(x2), ignore_index=True)\n",
    "    )\n",
    ")\n",
    "Y = pd.Series(list(y1) + list(y2), name='label')\n",
    "Stage = pd.Series(stage1 + stage2, name='stage')\n",
    "\n",
    "tsne = TSNE(n_components=2, perplexity=30, learning_rate=200, n_iter=1000, random_state=42)\n",
    "X_embedded = tsne.fit_transform(X)\n",
    "\n",
    "df_vis = pd.DataFrame(X_embedded, columns=['dim1', 'dim2'])\n",
    "df_vis['label'] = Y\n",
    "df_vis['stage'] = Stage\n",
    "\n",
    "plt.figure(figsize=(10, 8))\n",
    "sns.scatterplot(\n",
    "    data=df_vis, \n",
    "    x='dim1', y='dim2', \n",
    "    hue='label', \n",
    "    style='stage',\n",
    "    palette='tab10',\n",
    "    alpha=0.7\n",
    ")\n",
    "plt.title('t-SNE Visualization of [CLS] Representations (Before vs After Training)', fontsize=14)\n",
    "plt.legend(title='Label / Stage', bbox_to_anchor=(1.05, 1), loc='upper left')\n",
    "plt.tight_layout()\n",
    "plt.savefig('tsne_cls_comparison.png', dpi=300)\n",
    "plt.show()\n"
   ]
  }
 ],
 "metadata": {
  "kernelspec": {
   "display_name": "pytorch3",
   "language": "python",
   "name": "python3"
  },
  "language_info": {
   "codemirror_mode": {
    "name": "ipython",
    "version": 3
   },
   "file_extension": ".py",
   "mimetype": "text/x-python",
   "name": "python",
   "nbconvert_exporter": "python",
   "pygments_lexer": "ipython3",
   "version": "3.8.16"
  }
 },
 "nbformat": 4,
 "nbformat_minor": 5
}
