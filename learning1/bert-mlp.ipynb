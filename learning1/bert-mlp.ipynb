{
 "cells": [
  {
   "cell_type": "code",
   "execution_count": 34,
   "metadata": {
    "_cell_guid": "b1076dfc-b9ad-4769-8c92-a6c4dae69d19",
    "_uuid": "8f2839f25d086af736a60e9eeb907d3b93b6e0e5",
    "execution": {
     "iopub.execute_input": "2025-04-29T06:21:09.787621Z",
     "iopub.status.busy": "2025-04-29T06:21:09.786817Z",
     "iopub.status.idle": "2025-04-29T06:21:09.794103Z",
     "shell.execute_reply": "2025-04-29T06:21:09.793539Z",
     "shell.execute_reply.started": "2025-04-29T06:21:09.787597Z"
    },
    "trusted": true
   },
   "outputs": [],
   "source": [
    "# This Python 3 environment comes with many helpful analytics libraries installed\n",
    "# It is defined by the kaggle/python Docker image: https://github.com/kaggle/docker-python\n",
    "# For example, here's several helpful packages to load\n",
    "\n",
    "import numpy as np # linear algebra\n",
    "import pandas as pd # data processing, CSV file I/O (e.g. pd.read_csv)\n",
    "\n",
    "# Input data files are available in the read-only \"../input/\" directory\n",
    "# For example, running this (by clicking run or pressing Shift+Enter) will list all files under the input directory\n",
    "\n",
    "import os\n",
    "for dirname, _, filenames in os.walk('/kaggle/input'):\n",
    "    for filename in filenames:\n",
    "        os.path.join(dirname, filename)\n",
    "\n",
    "# You can write up to 20GB to the current directory (/kaggle/working/) that gets preserved as output when you create a version using \"Save & Run All\" \n",
    "# You can also write temporary files to /kaggle/temp/, but they won't be saved outside of the current session"
   ]
  },
  {
   "cell_type": "code",
   "execution_count": 35,
   "metadata": {
    "execution": {
     "iopub.execute_input": "2025-04-29T06:21:09.795556Z",
     "iopub.status.busy": "2025-04-29T06:21:09.795355Z",
     "iopub.status.idle": "2025-04-29T06:21:10.107851Z",
     "shell.execute_reply": "2025-04-29T06:21:10.107054Z",
     "shell.execute_reply.started": "2025-04-29T06:21:09.795542Z"
    },
    "trusted": true
   },
   "outputs": [],
   "source": [
    "!cd /kaggle/input/word2vec-nlp-tutorial\n",
    "!ls"
   ]
  },
  {
   "cell_type": "code",
   "execution_count": 36,
   "metadata": {
    "execution": {
     "iopub.execute_input": "2025-04-29T06:21:10.109349Z",
     "iopub.status.busy": "2025-04-29T06:21:10.108998Z",
     "iopub.status.idle": "2025-04-29T06:21:11.335533Z",
     "shell.execute_reply": "2025-04-29T06:21:11.334809Z",
     "shell.execute_reply.started": "2025-04-29T06:21:10.109318Z"
    },
    "trusted": true
   },
   "outputs": [
    {
     "name": "stdout",
     "output_type": "stream",
     "text": [
      "Shap of train: (25000, 3)\n",
      "example:\n",
      "       id  sentiment                                             review\n",
      "0  5814_8          1  With all this stuff going down at the moment w...\n",
      "1  2381_9          1  \\The Classic War of the Worlds\\\" by Timothy Hi...\n",
      "\n",
      "Shap of test: (25000, 2)\n",
      "example:\n",
      "         id                                             review\n",
      "0  12311_10  Naturally in a film who's main themes are of m...\n",
      "1    8348_2  This movie is a disaster within a disaster fil...\n"
     ]
    }
   ],
   "source": [
    "import zipfile\n",
    "import pandas as pd\n",
    "from sklearn.model_selection import train_test_split\n",
    "from transformers import BertTokenizer\n",
    "\n",
    "# 加载压缩数据\n",
    "def load_zipped_data(zip_path, file_name):\n",
    "    with zipfile.ZipFile(zip_path) as z:\n",
    "        with z.open(file_name) as f:\n",
    "            return pd.read_csv(f, sep='\\t', encoding='utf-8')\n",
    "\n",
    "train_data = load_zipped_data(\"/kaggle/input/word2vec-nlp-tutorial/labeledTrainData.tsv.zip\", \"labeledTrainData.tsv\")\n",
    "test_data = load_zipped_data(\"/kaggle/input/word2vec-nlp-tutorial/testData.tsv.zip\", \"testData.tsv\")\n",
    "\n",
    "print(f\"Shap of train: {train_data.shape}\\nexample:\\n{train_data.head(2)}\")\n",
    "print(f\"\\nShap of test: {test_data.shape}\\nexample:\\n{test_data.head(2)}\")\n",
    "\n",
    "train_data['review'] = train_data['review'].str.replace('<br />', ' ')\n",
    "test_data['review'] = test_data['review'].str.replace('<br />', ' ')\n",
    "\n",
    "train_texts, val_texts, train_labels, val_labels = train_test_split(\n",
    "    train_data['review'].values,\n",
    "    train_data['sentiment'].values,\n",
    "    test_size=0.2,\n",
    "    random_state=42,\n",
    "    stratify=train_data['sentiment'].values \n",
    ")"
   ]
  },
  {
   "cell_type": "code",
   "execution_count": 37,
   "metadata": {
    "execution": {
     "iopub.execute_input": "2025-04-29T06:21:11.336484Z",
     "iopub.status.busy": "2025-04-29T06:21:11.336260Z",
     "iopub.status.idle": "2025-04-29T06:21:11.340633Z",
     "shell.execute_reply": "2025-04-29T06:21:11.339884Z",
     "shell.execute_reply.started": "2025-04-29T06:21:11.336467Z"
    },
    "trusted": true
   },
   "outputs": [],
   "source": [
    "import torch\n",
    "from torch import nn\n",
    "from torch.utils.data import Dataset, DataLoader\n",
    "from transformers import BertTokenizer, BertModel\n",
    "from torch.optim import AdamW\n",
    "from sklearn.model_selection import train_test_split\n",
    "from datasets import load_dataset"
   ]
  },
  {
   "cell_type": "markdown",
   "metadata": {},
   "source": [
    "## Model"
   ]
  },
  {
   "cell_type": "code",
   "execution_count": null,
   "metadata": {
    "execution": {
     "iopub.execute_input": "2025-04-29T06:21:11.342996Z",
     "iopub.status.busy": "2025-04-29T06:21:11.342743Z",
     "iopub.status.idle": "2025-04-29T06:21:11.353816Z",
     "shell.execute_reply": "2025-04-29T06:21:11.353262Z",
     "shell.execute_reply.started": "2025-04-29T06:21:11.342981Z"
    },
    "trusted": true
   },
   "outputs": [],
   "source": [
    "class BERT_MLP(nn.Module):\n",
    "    def __init__(self, bert_model, hidden_size=512, num_classes=2):\n",
    "        super(BERT_MLP, self).__init__()\n",
    "        self.bert = bert_model\n",
    "        \n",
    "        for param in self.bert.parameters():\n",
    "            param.requires_grad = False \n",
    "            \n",
    "        for layer in self.bert.encoder.layer[-4:]:\n",
    "            for param in layer.parameters():\n",
    "                param.requires_grad = True\n",
    "        \n",
    "        self.dropout = nn.Dropout(0.1)\n",
    "        self.fc1 = nn.Linear(768, hidden_size)\n",
    "        self.fc2 = nn.Linear(hidden_size, num_classes)\n",
    "        self.relu = nn.ReLU()\n",
    "\n",
    "    def forward(self, input_ids, attention_mask):\n",
    "        outputs = self.bert(input_ids=input_ids, attention_mask=attention_mask)\n",
    "        last_hidden = outputs.last_hidden_state  # (batch, seq_len, 768)\n",
    "        pooled = torch.mean(last_hidden, dim=1)  # (batch, 768)\n",
    "        \n",
    "        x = self.fc1(pooled)\n",
    "        x = self.relu(x)\n",
    "        x = self.dropout(x) \n",
    "        x = self.fc2(x)\n",
    "        return x"
   ]
  },
  {
   "cell_type": "code",
   "execution_count": 39,
   "metadata": {
    "execution": {
     "iopub.execute_input": "2025-04-29T06:21:11.354574Z",
     "iopub.status.busy": "2025-04-29T06:21:11.354406Z",
     "iopub.status.idle": "2025-04-29T06:21:11.364167Z",
     "shell.execute_reply": "2025-04-29T06:21:11.363487Z",
     "shell.execute_reply.started": "2025-04-29T06:21:11.354561Z"
    },
    "trusted": true
   },
   "outputs": [],
   "source": [
    "class ReviewDataset(Dataset):\n",
    "    def __init__(self, texts, labels, tokenizer, max_len):\n",
    "        self.texts = texts\n",
    "        self.labels = labels\n",
    "        self.tokenizer = tokenizer\n",
    "        self.max_len = max_len\n",
    "\n",
    "    def __len__(self):\n",
    "        return len(self.texts)\n",
    "\n",
    "    def __getitem__(self, idx):\n",
    "        text = self.texts[idx]\n",
    "        label = self.labels[idx]\n",
    "\n",
    "        encoding = self.tokenizer.encode_plus(\n",
    "            text,\n",
    "            add_special_tokens=True,\n",
    "            max_length=self.max_len,\n",
    "            padding='max_length',\n",
    "            truncation=True,\n",
    "            return_tensors='pt'\n",
    "        )\n",
    "\n",
    "        return {\n",
    "            'input_ids': encoding['input_ids'].flatten(),\n",
    "            'attention_mask': encoding['attention_mask'].flatten(),\n",
    "            'label': torch.tensor(label, dtype=torch.long)\n",
    "        }"
   ]
  },
  {
   "cell_type": "code",
   "execution_count": 40,
   "metadata": {
    "execution": {
     "iopub.execute_input": "2025-04-29T06:21:11.365154Z",
     "iopub.status.busy": "2025-04-29T06:21:11.364914Z",
     "iopub.status.idle": "2025-04-29T06:21:11.660537Z",
     "shell.execute_reply": "2025-04-29T06:21:11.659996Z",
     "shell.execute_reply.started": "2025-04-29T06:21:11.365138Z"
    },
    "trusted": true
   },
   "outputs": [],
   "source": [
    "train_texts, val_texts, train_labels, val_labels = train_test_split(\n",
    "    train_data['review'].values, train_data['sentiment'].values, test_size=0.2, random_state=42\n",
    ")\n",
    "tokenizer = BertTokenizer.from_pretrained('bert-base-uncased')"
   ]
  },
  {
   "cell_type": "code",
   "execution_count": 41,
   "metadata": {
    "execution": {
     "iopub.execute_input": "2025-04-29T06:21:11.661430Z",
     "iopub.status.busy": "2025-04-29T06:21:11.661199Z",
     "iopub.status.idle": "2025-04-29T06:21:12.341831Z",
     "shell.execute_reply": "2025-04-29T06:21:12.341267Z",
     "shell.execute_reply.started": "2025-04-29T06:21:11.661414Z"
    },
    "trusted": true
   },
   "outputs": [],
   "source": [
    "bert_model = BertModel.from_pretrained('bert-base-uncased')\n",
    "device = torch.device(\"cuda\" if torch.cuda.is_available() else \"cpu\")\n",
    "\n",
    "model = BERT_MLP(bert_model).to(device)\n",
    "\n",
    "max_len = 256  \n",
    "optimizer = AdamW([\n",
    "    {'params': model.bert.parameters(), 'lr': 2e-5},  \n",
    "    {'params': model.fc1.parameters(), 'lr': 1e-4},   \n",
    "    {'params': model.fc2.parameters(), 'lr': 1e-4}\n",
    "])\n",
    "train_dataset = ReviewDataset(train_texts, train_labels, tokenizer, max_len)\n",
    "val_dataset = ReviewDataset(val_texts, val_labels, tokenizer, max_len)\n",
    "\n",
    "train_loader = DataLoader(train_dataset, batch_size=64, shuffle=True)\n",
    "val_loader = DataLoader(val_dataset, batch_size=64)\n"
   ]
  },
  {
   "cell_type": "code",
   "execution_count": null,
   "metadata": {
    "execution": {
     "iopub.execute_input": "2025-04-29T06:21:12.343300Z",
     "iopub.status.busy": "2025-04-29T06:21:12.343092Z",
     "iopub.status.idle": "2025-04-29T06:21:12.351834Z",
     "shell.execute_reply": "2025-04-29T06:21:12.351012Z",
     "shell.execute_reply.started": "2025-04-29T06:21:12.343285Z"
    },
    "trusted": true
   },
   "outputs": [],
   "source": [
    "\n",
    "from tqdm import tqdm\n",
    "\n",
    "def train_epoch(model, data_loader, optimizer, criterion):\n",
    "    model = model.train()\n",
    "    losses = []\n",
    "    correct_predictions = 0\n",
    "\n",
    "    loop = tqdm(data_loader, desc=\"Training\", leave=False)\n",
    "\n",
    "    for batch in loop:\n",
    "        optimizer.zero_grad()\n",
    "        \n",
    "        input_ids = batch['input_ids'].to(device)\n",
    "        attention_mask = batch['attention_mask'].to(device)\n",
    "        labels = batch['label'].to(device)\n",
    "       \n",
    "\n",
    "        outputs = model(input_ids=input_ids, attention_mask=attention_mask)\n",
    "        loss = criterion(outputs, labels)\n",
    "        losses.append(loss.item())\n",
    "        \n",
    "        _, preds = torch.max(outputs, dim=1)\n",
    "        correct_predictions += torch.sum(preds == labels)\n",
    "        \n",
    "        loss.backward()\n",
    "        optimizer.step()\n",
    "        loop.set_postfix(loss=loss.item())\n",
    "\n",
    "    return losses, correct_predictions.double() / len(data_loader.dataset), sum(losses) / len(losses)\n",
    "\n",
    "def eval_model(model, data_loader, criterion):\n",
    "    model = model.eval()\n",
    "    losses = []\n",
    "    correct_predictions = 0\n",
    "\n",
    "    loop = tqdm(data_loader, desc=\"Evaluating\", leave=False)\n",
    "\n",
    "    with torch.no_grad():\n",
    "        for batch in loop:\n",
    "            input_ids = batch['input_ids'].squeeze(1).to(device)\n",
    "            attention_mask = batch['attention_mask'].squeeze(1).to(device)\n",
    "            labels = batch['label'].to(device)\n",
    "\n",
    "            outputs = model(input_ids=input_ids, attention_mask=attention_mask)\n",
    "            loss = criterion(outputs, labels)\n",
    "            losses.append(loss.item())\n",
    "            \n",
    "            # 预测\n",
    "            _, preds = torch.max(outputs, dim=1)\n",
    "            correct_predictions += torch.sum(preds == labels)\n",
    "            loop.set_postfix(loss=loss.item())\n",
    "\n",
    "    return losses, correct_predictions.double() / len(data_loader.dataset), sum(losses) / len(losses)"
   ]
  },
  {
   "cell_type": "code",
   "execution_count": 43,
   "metadata": {
    "execution": {
     "iopub.execute_input": "2025-04-29T06:21:12.352819Z",
     "iopub.status.busy": "2025-04-29T06:21:12.352631Z",
     "iopub.status.idle": "2025-04-29T06:27:54.026563Z",
     "shell.execute_reply": "2025-04-29T06:27:54.025757Z",
     "shell.execute_reply.started": "2025-04-29T06:21:12.352805Z"
    },
    "trusted": true
   },
   "outputs": [
    {
     "name": "stdout",
     "output_type": "stream",
     "text": [
      "Epoch 1/1\n"
     ]
    },
    {
     "name": "stderr",
     "output_type": "stream",
     "text": [
      "                                                                        \r"
     ]
    }
   ],
   "source": [
    "\n",
    "\n",
    "\n",
    "criterion = nn.CrossEntropyLoss()\n",
    "\n",
    "num_epochs = 1\n",
    "\n",
    "\n",
    "for epoch in range(num_epochs):\n",
    "    print(f\"Epoch {epoch + 1}/{num_epochs}\")\n",
    "    \n",
    "    train_losses, train_acc, train_loss = train_epoch(model, train_loader, optimizer, criterion)\n",
    "    \n",
    "    val_losses, val_acc, val_loss = eval_model(model, val_loader, criterion)"
   ]
  },
  {
   "cell_type": "code",
   "execution_count": null,
   "metadata": {
    "execution": {
     "iopub.execute_input": "2025-04-29T06:31:24.910077Z",
     "iopub.status.busy": "2025-04-29T06:31:24.909506Z",
     "iopub.status.idle": "2025-04-29T06:39:31.144578Z",
     "shell.execute_reply": "2025-04-29T06:39:31.143972Z",
     "shell.execute_reply.started": "2025-04-29T06:31:24.910056Z"
    },
    "trusted": true
   },
   "outputs": [
    {
     "name": "stderr",
     "output_type": "stream",
     "text": [
      "100%|██████████| 196/196 [08:06<00:00,  2.48s/it]\n"
     ]
    }
   ],
   "source": [
    "\n",
    "model.eval()\n",
    "\n",
    "\n",
    "\n",
    "batch_size = 128\n",
    "all_preds = []\n",
    "\n",
    "with torch.no_grad():\n",
    "    for i in tqdm(range(0, len(test_data), batch_size)):\n",
    "        batch_reviews = test_data['review'].iloc[i:i+batch_size].tolist()\n",
    "        \n",
    "        # Tokenize\n",
    "        encoded = tokenizer(batch_reviews, padding=True, truncation=True, max_length=512, return_tensors=\"pt\")\n",
    "        input_ids = encoded['input_ids'].to(device)\n",
    "        attention_mask = encoded['attention_mask'].to(device)\n",
    "        \n",
    "        # Forward\n",
    "        outputs = model(input_ids=input_ids, attention_mask=attention_mask)\n",
    "        preds = torch.argmax(outputs, dim=1).cpu().numpy()\n",
    "        \n",
    "        all_preds.extend(preds)\n",
    "\n",
    "# 保存到csv\n",
    "submission = pd.DataFrame({\n",
    "    \"id\": test_data[\"id\"],\n",
    "    \"sentiment\": all_preds\n",
    "})\n",
    "submission.to_csv(\"/kaggle/working/mlp.csv\", index=False, quoting=3)\n"
   ]
  }
 ],
 "metadata": {
  "kaggle": {
   "accelerator": "gpu",
   "dataSources": [
    {
     "databundleVersionId": 32703,
     "sourceId": 3971,
     "sourceType": "competition"
    }
   ],
   "dockerImageVersionId": 31011,
   "isGpuEnabled": true,
   "isInternetEnabled": true,
   "language": "python",
   "sourceType": "notebook"
  },
  "kernelspec": {
   "display_name": "Python 3",
   "language": "python",
   "name": "python3"
  },
  "language_info": {
   "codemirror_mode": {
    "name": "ipython",
    "version": 3
   },
   "file_extension": ".py",
   "mimetype": "text/x-python",
   "name": "python",
   "nbconvert_exporter": "python",
   "pygments_lexer": "ipython3",
   "version": "3.11.11"
  }
 },
 "nbformat": 4,
 "nbformat_minor": 4
}
